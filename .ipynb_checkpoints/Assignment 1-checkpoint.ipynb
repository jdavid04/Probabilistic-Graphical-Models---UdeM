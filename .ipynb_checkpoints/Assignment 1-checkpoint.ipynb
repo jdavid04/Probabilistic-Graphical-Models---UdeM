{
 "cells": [
  {
   "cell_type": "markdown",
   "metadata": {},
   "source": [
    "## Question 4\n",
    "\n",
    "\n"
   ]
  },
  {
   "cell_type": "code",
   "execution_count": 1,
   "metadata": {
    "scrolled": true
   },
   "outputs": [
    {
     "name": "stdout",
     "output_type": "stream",
     "text": [
      "[-0.57197331  0.18503134  0.00708837 -1.78548842 -1.03987084]\n",
      "-0.6410425738390912\n",
      "0.5152125318887639\n"
     ]
    }
   ],
   "source": [
    "import numpy as np\n",
    "import matplotlib.pyplot as plt\n",
    "\n",
    "# Part a), draw five samples from a standard normal distribution\n",
    "\n",
    "samples = np.random.normal(size = 5)\n",
    "\n",
    "# Part b), compute MLE estimates\n",
    "\n",
    "mu_estimate = np.mean(samples)\n",
    "var_estimate = np.sum((samples - mu_estimate)**2)/len(samples)\n",
    "\n",
    "print(samples)\n",
    "print(mu_estimate)\n",
    "print(var_estimate)"
   ]
  },
  {
   "cell_type": "code",
   "execution_count": 7,
   "metadata": {},
   "outputs": [
    {
     "data": {
      "image/png": "[encoded data removed]",
      "text/plain": [
       "<Figure size 720x720 with 1 Axes>"
      ]
     },
     "metadata": {
      "needs_background": "light"
     },
     "output_type": "display_data"
    }
   ],
   "source": [
    "# Part c), compute estimates as above 10000 times and plot histogram of variance estimates\n",
    "\n",
    "var_estimates = []\n",
    "\n",
    "for i in range(10000):\n",
    "    samples = np.random.normal(size = 5)\n",
    "    mu_estimate = np.mean(samples)\n",
    "    var_estimate = np.sum((samples - mu_estimate)**2)/len(samples)\n",
    "    \n",
    "    var_estimates.append(var_estimate)\n",
    "\n",
    "#Plot histogram\n",
    "\n",
    "plt.figure(figsize = (10,10))\n",
    "plt.title(\"Histogram for counts of variance estimates\")\n",
    "plt.hist(var_estimates, bins = 'auto');"
   ]
  },
  {
   "cell_type": "markdown",
   "metadata": {},
   "source": [
    "The above distribution has the look of a chi-squared distribution with 4 degrees of freedom scaled by 1/n. Indeed, since the variance of our normal is 1, the sum of squared differences between our samples and the empirical mean corresponds to this very distribution for n = 5. Thus the histogram looks as though we have sampled points from this distribution. If we were to increase the number of samples drawn above to n > 5, we see that the graph increasingly resembles a normal distribution, which corresponds to the increasingly symmetrical graph of a chi-squared distribution as the number of degrees of freedom increases."
   ]
  },
  {
   "cell_type": "code",
   "execution_count": 3,
   "metadata": {},
   "outputs": [
    {
     "name": "stdout",
     "output_type": "stream",
     "text": [
      "-0.20040043388071294\n",
      "0.3144491099985421\n"
     ]
    }
   ],
   "source": [
    "#Part d), numerically estimate bias and variance\n",
    "\n",
    "estimated_bias = np.mean(var_estimates) - 1\n",
    "estimated_variance = np.sum((var_estimates - np.mean(var_estimates))**2)/10000\n",
    "\n",
    "print(estimated_bias)\n",
    "print(estimated_variance)"
   ]
  },
  {
   "cell_type": "markdown",
   "metadata": {},
   "source": [
    "#### Part e)\n",
    "\n",
    "Given these estimates for the bias and variance of our estimator, comparing them to their theoretical values allows us to check our work:\n",
    "\n",
    "$$ bias = \\frac{-\\sigma^{2}}{n} = \\frac{-1}{5} = -0.2 $$\n",
    "\n",
    "$$ variance = \\frac{\\sigma^{4} 2(n-1)}{n^{2}} = \\frac{8}{25} = 0.32 $$\n",
    "\n",
    "Thus the empirical estimates seem to coincide with the theoretical ones."
   ]
  }
 ],
 "metadata": {
  "kernelspec": {
   "display_name": "Python [conda env:fondements_ml]",
   "language": "python",
   "name": "conda-env-fondements_ml-py"
  },
  "language_info": {
   "codemirror_mode": {
    "name": "ipython",
    "version": 3
   },
   "file_extension": ".py",
   "mimetype": "text/x-python",
   "name": "python",
   "nbconvert_exporter": "python",
   "pygments_lexer": "ipython3",
   "version": "3.6.3"
  }
 },
 "nbformat": 4,
 "nbformat_minor": 2
}
