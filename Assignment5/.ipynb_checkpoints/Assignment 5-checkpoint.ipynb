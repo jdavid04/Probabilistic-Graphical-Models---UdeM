{
 "cells": [
  {
   "cell_type": "markdown",
   "metadata": {},
   "source": [
    "### Gibbs Sampling"
   ]
  },
  {
   "cell_type": "code",
   "execution_count": 1,
   "metadata": {
    "collapsed": true
   },
   "outputs": [],
   "source": [
    "import numpy as np\n",
    "import matplotlib.pyplot as plt"
   ]
  },
  {
   "cell_type": "code",
   "execution_count": 2,
   "metadata": {
    "collapsed": true
   },
   "outputs": [],
   "source": [
    "ising = np.random.rand(7,7)"
   ]
  },
  {
   "cell_type": "code",
   "execution_count": 3,
   "metadata": {
    "collapsed": true
   },
   "outputs": [],
   "source": [
    "def sigmoid(z):\n",
    "    return 1/(1+np.exp(-z))"
   ]
  },
  {
   "cell_type": "code",
   "execution_count": 4,
   "metadata": {
    "collapsed": true
   },
   "outputs": [],
   "source": [
    "def gibbs(num_epochs,ising, eta_edge = 0.5, collect_samples = False):\n",
    "    samples = []\n",
    "    for tau in range(1,num_epochs+1):\n",
    "        for i in range(7):\n",
    "            for j in range(7):\n",
    "                s = 7*(i) + (j+1)\n",
    "                eta = (-1)**s\n",
    "                prob = sigmoid(eta_edge*(ising[i-1,j] + ising[(i+1)%7,j] + ising[i,j-1] + ising[i,(j+1)%7]) + eta)\n",
    "                ising[i,j] = (np.random.rand() < prob)*1\n",
    "        if collect_samples: samples.append(ising.flatten())\n",
    "    return ising, np.array(samples)\n",
    "            "
   ]
  },
  {
   "cell_type": "markdown",
   "metadata": {},
   "source": [
    "Now that we've defined the gibbs sampling for our model, we can go ahead and run the burn in period. "
   ]
  },
  {
   "cell_type": "code",
   "execution_count": 5,
   "metadata": {
    "collapsed": true
   },
   "outputs": [],
   "source": [
    "ising = gibbs(1000,ising)[0]"
   ]
  },
  {
   "cell_type": "markdown",
   "metadata": {},
   "source": [
    "Now we can go ahead and collect samples from the next 5000 epochs."
   ]
  },
  {
   "cell_type": "code",
   "execution_count": 6,
   "metadata": {
    "collapsed": true
   },
   "outputs": [],
   "source": [
    "ising, samples = gibbs(5000, ising, collect_samples=True)"
   ]
  },
  {
   "cell_type": "markdown",
   "metadata": {},
   "source": [
    "From this we compute our estimates my taking the empirical mean at each node."
   ]
  },
  {
   "cell_type": "code",
   "execution_count": 7,
   "metadata": {
    "collapsed": true
   },
   "outputs": [],
   "source": [
    "mean_estimates = samples.mean(axis = 0)"
   ]
  },
  {
   "cell_type": "code",
   "execution_count": 8,
   "metadata": {},
   "outputs": [
    {
     "data": {
      "text/plain": [
       "array([[0.6332, 0.911 , 0.6724, 0.913 , 0.6666, 0.9076, 0.6376],\n",
       "       [0.9162, 0.675 , 0.9062, 0.6944, 0.905 , 0.6818, 0.9138],\n",
       "       [0.6744, 0.9072, 0.7018, 0.907 , 0.6908, 0.9068, 0.678 ],\n",
       "       [0.9182, 0.6826, 0.9052, 0.6854, 0.9082, 0.6818, 0.9208],\n",
       "       [0.659 , 0.9028, 0.6838, 0.9042, 0.6828, 0.9034, 0.667 ],\n",
       "       [0.9208, 0.691 , 0.9028, 0.6866, 0.8992, 0.6924, 0.9174],\n",
       "       [0.6292, 0.9132, 0.662 , 0.9186, 0.6584, 0.9154, 0.6232]])"
      ]
     },
     "execution_count": 8,
     "metadata": {},
     "output_type": "execute_result"
    }
   ],
   "source": [
    "mean_estimates.reshape(7,7)"
   ]
  },
  {
   "cell_type": "markdown",
   "metadata": {},
   "source": [
    "Now we repeat the experiment 10 times to obtain standard deviations of the estimates."
   ]
  },
  {
   "cell_type": "code",
   "execution_count": 9,
   "metadata": {
    "collapsed": true
   },
   "outputs": [],
   "source": [
    "estimates = []\n",
    "for t in range(10):\n",
    "    ising = np.zeros((7,7))\n",
    "    ising = gibbs(1000,ising)[0]\n",
    "    ising, samples = gibbs(5000, ising, collect_samples=True)\n",
    "    mean_estimates = samples.mean(axis = 0)\n",
    "    estimates.append(mean_estimates)"
   ]
  },
  {
   "cell_type": "code",
   "execution_count": 10,
   "metadata": {
    "collapsed": true
   },
   "outputs": [],
   "source": [
    "estimates = np.array(estimates)"
   ]
  },
  {
   "cell_type": "code",
   "execution_count": 11,
   "metadata": {},
   "outputs": [
    {
     "data": {
      "text/plain": [
       "(10, 49)"
      ]
     },
     "execution_count": 11,
     "metadata": {},
     "output_type": "execute_result"
    }
   ],
   "source": [
    "estimates.shape"
   ]
  },
  {
   "cell_type": "code",
   "execution_count": 12,
   "metadata": {},
   "outputs": [
    {
     "data": {
      "text/plain": [
       "array([[0.0061, 0.005 , 0.0087, 0.0029, 0.0071, 0.0035, 0.0066],\n",
       "       [0.0045, 0.0042, 0.0017, 0.0055, 0.0048, 0.0044, 0.003 ],\n",
       "       [0.0075, 0.0038, 0.008 , 0.0041, 0.0049, 0.0053, 0.0041],\n",
       "       [0.0038, 0.0087, 0.0038, 0.0045, 0.0034, 0.0049, 0.0037],\n",
       "       [0.0073, 0.0043, 0.005 , 0.0028, 0.0066, 0.0047, 0.0067],\n",
       "       [0.0048, 0.0063, 0.0045, 0.0063, 0.0033, 0.0055, 0.0036],\n",
       "       [0.0088, 0.0041, 0.0082, 0.003 , 0.0054, 0.0028, 0.0067]])"
      ]
     },
     "execution_count": 12,
     "metadata": {},
     "output_type": "execute_result"
    }
   ],
   "source": [
    "np.std(estimates, axis = 0).reshape(7,7).round(4)"
   ]
  },
  {
   "cell_type": "markdown",
   "metadata": {
    "collapsed": true
   },
   "source": [
    "### Mean Field Variational Inference"
   ]
  },
  {
   "cell_type": "markdown",
   "metadata": {},
   "source": [
    "We start by defining our helper function for the distance computation between two models."
   ]
  },
  {
   "cell_type": "code",
   "execution_count": 13,
   "metadata": {
    "collapsed": true
   },
   "outputs": [],
   "source": [
    "def distance(tau1,tau2):\n",
    "    return np.abs(tau1 - tau2).mean()"
   ]
  },
  {
   "cell_type": "markdown",
   "metadata": {},
   "source": [
    "We define a helper function first to compute the divergence measurement at each epoch."
   ]
  },
  {
   "cell_type": "code",
   "execution_count": 14,
   "metadata": {
    "collapsed": true
   },
   "outputs": [],
   "source": [
    "def compute_divergence(ising, eta_edge = 0.5):\n",
    "    \n",
    "    def get_edge(source, target_node):\n",
    "        target = 7*(target_node[0]) + (target_node[1]+1)\n",
    "        return tuple(sorted([target,source]))\n",
    "\n",
    "    node_sum = 0\n",
    "    edge_sum = 0\n",
    "    q_sum = 0\n",
    "    seen_edges = set([])\n",
    "    for i in range(7):\n",
    "        for j in range(7):\n",
    "            s = 7*(i) + (j+1)\n",
    "            eta = (-1)**s\n",
    "            node_sum+=eta*ising[i,j]\n",
    "            \n",
    "            #Add expectations for unseen edges\n",
    "            for node in [[(i-1)%7,j],[(i+1)%7,j],[i,(j-1)%7],[i,(j+1)%7]]:\n",
    "                edge = get_edge(s,node)\n",
    "                if edge not in seen_edges:\n",
    "                    edge_sum+=eta_edge*ising[i,j]*ising[node[0],node[1]]\n",
    "                    seen_edges.add(edge)\n",
    "                    \n",
    "            #Add node expectations for log q distribution\n",
    "            q_sum += ising[i,j]*np.log(ising[i,j]) + (1-ising[i,j])*np.log(1-ising[i,j])\n",
    "      \n",
    "    return - node_sum - edge_sum + q_sum"
   ]
  },
  {
   "cell_type": "markdown",
   "metadata": {},
   "source": [
    "Now we can initialize our ising model and run the mean field algorithm for estimation."
   ]
  },
  {
   "cell_type": "code",
   "execution_count": 15,
   "metadata": {},
   "outputs": [
    {
     "data": {
      "text/plain": [
       "array([[0.6358, 0.9215, 0.6716, 0.9228, 0.6716, 0.9215, 0.6358],\n",
       "       [0.9215, 0.6978, 0.9154, 0.6974, 0.9154, 0.6978, 0.9215],\n",
       "       [0.6716, 0.9154, 0.6967, 0.9163, 0.6967, 0.9154, 0.6717],\n",
       "       [0.9228, 0.6974, 0.9163, 0.6969, 0.9164, 0.6974, 0.9229],\n",
       "       [0.6716, 0.9154, 0.6967, 0.9164, 0.6967, 0.9154, 0.6717],\n",
       "       [0.9215, 0.6978, 0.9154, 0.6974, 0.9154, 0.6978, 0.9215],\n",
       "       [0.6358, 0.9215, 0.6717, 0.9229, 0.6717, 0.9215, 0.6358]])"
      ]
     },
     "execution_count": 15,
     "metadata": {},
     "output_type": "execute_result"
    }
   ],
   "source": [
    "ising = np.random.rand(7,7)\n",
    "def mfvi(ising, eta_edge = 0.5):\n",
    "    converged = False\n",
    "    epochs = 0\n",
    "    divergences = []\n",
    "    while not converged:\n",
    "        epochs+=1\n",
    "        old_ising = ising.copy()\n",
    "        for i in range(7):\n",
    "            for j in range(7):\n",
    "                s = 7*(i) + (j+1)\n",
    "                eta = (-1)**s\n",
    "                ising[i,j] = sigmoid(eta_edge*(ising[i-1,j] + ising[(i+1)%7,j] + ising[i,j-1] + ising[i,(j+1)%7]) + eta)\n",
    "        divergences.append(compute_divergence(ising))\n",
    "        if distance(old_ising, ising) < 0.001 : converged = True #Stopping criterion    \n",
    "    return ising, divergences\n",
    "\n",
    "mean_field_estimates,divergences = mfvi(ising)\n",
    "\n",
    "mean_field_estimates.round(4)"
   ]
  },
  {
   "cell_type": "markdown",
   "metadata": {},
   "source": [
    "We plot the obtained divergence measurements as a function of the epochs completed:"
   ]
  },
  {
   "cell_type": "code",
   "execution_count": 16,
   "metadata": {},
   "outputs": [
    {
     "data": {
      "image/png": "[encoded data removed]",
      "text/plain": [
       "<Figure size 432x288 with 1 Axes>"
      ]
     },
     "metadata": {
      "needs_background": "light"
     },
     "output_type": "display_data"
    }
   ],
   "source": [
    "ax = plt.subplot(111)\n",
    "ax.set_title('Divergences as a function of iterations')\n",
    "ax.set_xlabel('Epochs')\n",
    "ax.set_ylabel('Divergence')\n",
    "plt.plot(divergences)\n",
    "plt.savefig('Divergences.png')"
   ]
  },
  {
   "cell_type": "markdown",
   "metadata": {},
   "source": [
    "Now let's compare our two estimation methods by seeing by how much they differ."
   ]
  },
  {
   "cell_type": "code",
   "execution_count": 17,
   "metadata": {},
   "outputs": [
    {
     "data": {
      "text/plain": [
       "0.008412914391418653"
      ]
     },
     "execution_count": 17,
     "metadata": {},
     "output_type": "execute_result"
    }
   ],
   "source": [
    "distance(mean_estimates.reshape(7,7),mean_field_estimates)"
   ]
  },
  {
   "cell_type": "markdown",
   "metadata": {},
   "source": [
    "We can try different initializations to see how the mean-field algorithm performs in general and check if it gets stuck in local minima."
   ]
  },
  {
   "cell_type": "code",
   "execution_count": 18,
   "metadata": {},
   "outputs": [
    {
     "name": "stdout",
     "output_type": "stream",
     "text": [
      "[[0.6357 0.9215 0.6716 0.9228 0.6716 0.9215 0.6358]\n",
      " [0.9215 0.6978 0.9154 0.6974 0.9154 0.6978 0.9215]\n",
      " [0.6716 0.9154 0.6967 0.9163 0.6967 0.9154 0.6717]\n",
      " [0.9228 0.6974 0.9163 0.6969 0.9163 0.6974 0.9229]\n",
      " [0.6716 0.9154 0.6967 0.9163 0.6967 0.9154 0.6717]\n",
      " [0.9215 0.6978 0.9154 0.6974 0.9154 0.6978 0.9215]\n",
      " [0.6358 0.9215 0.6717 0.9229 0.6717 0.9215 0.6358]] \n",
      "\n",
      "[[0.6353 0.9213 0.6714 0.9227 0.6715 0.9214 0.6357]\n",
      " [0.9213 0.6976 0.9152 0.6973 0.9152 0.6977 0.9215]\n",
      " [0.6713 0.9152 0.6966 0.9161 0.6966 0.9153 0.6716]\n",
      " [0.9227 0.6972 0.9162 0.6968 0.9163 0.6973 0.9228]\n",
      " [0.6715 0.9153 0.6966 0.9163 0.6966 0.9154 0.6716]\n",
      " [0.9214 0.6977 0.9154 0.6974 0.9154 0.6978 0.9215]\n",
      " [0.6357 0.9215 0.6716 0.9228 0.6716 0.9215 0.6358]] \n",
      "\n",
      "[[0.6358 0.9215 0.6716 0.9228 0.6716 0.9215 0.6358]\n",
      " [0.9215 0.6978 0.9154 0.6974 0.9154 0.6978 0.9215]\n",
      " [0.6716 0.9154 0.6967 0.9163 0.6967 0.9154 0.6717]\n",
      " [0.9228 0.6974 0.9163 0.6969 0.9163 0.6974 0.9229]\n",
      " [0.6716 0.9154 0.6967 0.9163 0.6967 0.9154 0.6717]\n",
      " [0.9215 0.6978 0.9154 0.6974 0.9154 0.6978 0.9215]\n",
      " [0.6358 0.9215 0.6717 0.9229 0.6717 0.9215 0.6358]] \n",
      "\n",
      "[[0.6358 0.9215 0.6716 0.9228 0.6716 0.9215 0.6358]\n",
      " [0.9215 0.6978 0.9154 0.6974 0.9154 0.6978 0.9215]\n",
      " [0.6716 0.9154 0.6967 0.9163 0.6967 0.9154 0.6717]\n",
      " [0.9228 0.6974 0.9163 0.6969 0.9164 0.6974 0.9229]\n",
      " [0.6716 0.9154 0.6967 0.9164 0.6967 0.9154 0.6717]\n",
      " [0.9215 0.6978 0.9154 0.6974 0.9154 0.6978 0.9215]\n",
      " [0.6358 0.9215 0.6717 0.9229 0.6717 0.9215 0.6358]] \n",
      "\n",
      "[[0.6357 0.9215 0.6716 0.9228 0.6716 0.9215 0.6358]\n",
      " [0.9215 0.6978 0.9154 0.6974 0.9154 0.6978 0.9215]\n",
      " [0.6716 0.9154 0.6967 0.9163 0.6967 0.9154 0.6717]\n",
      " [0.9228 0.6974 0.9163 0.6969 0.9164 0.6974 0.9229]\n",
      " [0.6716 0.9154 0.6967 0.9164 0.6967 0.9154 0.6717]\n",
      " [0.9215 0.6978 0.9154 0.6974 0.9154 0.6978 0.9215]\n",
      " [0.6358 0.9215 0.6717 0.9229 0.6717 0.9215 0.6358]] \n",
      "\n"
     ]
    }
   ],
   "source": [
    "for it in range(5):\n",
    "    res = mfvi(np.random.rand(7,7))[0]\n",
    "    print(res.round(4),'\\n')"
   ]
  },
  {
   "cell_type": "markdown",
   "metadata": {},
   "source": [
    "We notice that the algorithm produces very consistent results accross different initializations, indicating here that it is converging to the same minimum in general."
   ]
  }
 ],
 "metadata": {
  "kernelspec": {
   "display_name": "Python [conda env:fondements_ml]",
   "language": "python",
   "name": "conda-env-fondements_ml-py"
  },
  "language_info": {
   "codemirror_mode": {
    "name": "ipython",
    "version": 3
   },
   "file_extension": ".py",
   "mimetype": "text/x-python",
   "name": "python",
   "nbconvert_exporter": "python",
   "pygments_lexer": "ipython3",
   "version": "3.6.3"
  }
 },
 "nbformat": 4,
 "nbformat_minor": 2
}
